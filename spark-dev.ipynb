{
 "cells": [
  {
   "cell_type": "code",
   "execution_count": null,
   "metadata": {},
   "outputs": [],
   "source": [
    "\n",
    "\n",
    "#scp -i \"/home/johan/Johan_key.pem\" -o StrictHostKeyChecking=accept-new -r \"am111_spark\" ec2-user@ec2-54-160-226-58.compute-1.amazonaws.com:/home/ec2-user\n",
    "#ssh -i \"Johan_key.pem\" ec2-user@ec2-3-82-37-175.compute-1.amazonaws.com\n",
    "\n",
    "#ssh -i \"Johan_key.pem\" ec2-user@ec2-54-160-226-58.compute-1.amazonaws.com\n",
    "\n",
    "#scp -i \"/home/johan/Johan_key.pem\" -r ec2-user@ec2-3-90-179-32.compute-1.amazonaws.com:/home/ec2-user/Python-3.10.5/aws_linux_venv.zip ./ \n",
    "\n",
    "\n",
    "#could put this into bootstrap shell script or smth to transfer the data. Or just upload it directly.\n",
    "\n",
    "#REMEBER TO USE ec2-user instead of root or ubuntu when using ubuntu\n",
    "\n"
   ]
  },
  {
   "attachments": {},
   "cell_type": "markdown",
   "metadata": {},
   "source": [
    "Steps for running something:\n",
    "-use this jupyer notebook to launch a linux cluster\n",
    "sudo yum update - y\n",
    "sudo yum groupinstall \"Development Tools\" -y\n",
    "sudo yum erase openssl-devel -y\n",
    "sudo yum install openssl11 openssl11-devel  libffi-devel bzip2-devel wget -y\n",
    "wget https://www.python.org/ftp/python/3.10.5/Python-3.10.5.tgz\n",
    "tar -xf Python-3.10.5.tgz\n",
    "cd Python-3.10.5/\n",
    "./configure --enable-optimizations\n",
    "\n",
    "nproc   \n",
    "then use nproc output for following\n",
    "make -j $(nproc)\n",
    "\n",
    "sudo make altinstall\n",
    "\n",
    "---------------above is for getting python3.10 to run as a python verison\n",
    "\n",
    "pip install virtualenv\n",
    "py -m virtualenv -p=<your_python_executable> <virtual_environment_directory>\n",
    "\n"
   ]
  },
  {
   "cell_type": "code",
   "execution_count": 1,
   "metadata": {},
   "outputs": [],
   "source": [
    "import boto3\n",
    "import time\n",
    "import os\n",
    "import paramiko"
   ]
  },
  {
   "cell_type": "code",
   "execution_count": 2,
   "metadata": {},
   "outputs": [],
   "source": [
    "#export AWS_PROFILE=personal\n",
    "#FOR COMMAND LINE ARGUMENTS ON THIS PROFILE\n",
    "#INSTANCE PROFILE FOR EMR IS emr-all\n",
    "session = boto3.Session(profile_name='personal')\n",
    "\n",
    "emr = session.client('emr', region_name='us-east-1')\n",
    "# create s3 client\n",
    "s3 = session.resource('s3', region_name='us-east-1')\n",
    "# Create a cluster with the default configurations "
   ]
  },
  {
   "cell_type": "code",
   "execution_count": 3,
   "metadata": {},
   "outputs": [
    {
     "name": "stdout",
     "output_type": "stream",
     "text": [
      "aws-cloudtrail-logs-012609303642-cf34e868\n",
      "aws-logs-012609303642-us-east-2\n",
      "johan-spark-commoncrawl-logs\n"
     ]
    }
   ],
   "source": [
    "#checking if correct aws accnt by printing buckets\n",
    "for bucket in s3.buckets.all():\n",
    "    print(bucket.name)\n"
   ]
  },
  {
   "cell_type": "code",
   "execution_count": 13,
   "metadata": {},
   "outputs": [],
   "source": [
    "# createa a bucket for the logs\n",
    "bucket = s3.create_bucket(Bucket='johan-spark-commoncrawl-logs')"
   ]
  },
  {
   "cell_type": "code",
   "execution_count": 49,
   "metadata": {},
   "outputs": [],
   "source": [
    "\n",
    "# Create a cluster with the default configurations \n",
    "response = emr.run_job_flow(\n",
    "\n",
    "    Name='virtual_enviroment_aws_linux',\n",
    "    LogUri='s3://commoncrawl-logs/',\n",
    "    ReleaseLabel='emr-6.9.0',\n",
    "    Instances={\n",
    "        'InstanceGroups': [\n",
    "            {\n",
    "                'Name': 'Master nodes',\n",
    "                'Market': 'ON_DEMAND',\n",
    "                'InstanceRole': 'MASTER',\n",
    "                'InstanceType': 'm4.xlarge',\n",
    "                'InstanceCount': 1,\n",
    "                'EbsConfiguration': {\n",
    "                    'EbsBlockDeviceConfigs': [\n",
    "                        {\n",
    "                            'VolumeSpecification': {\n",
    "                                'SizeInGB': 256,\n",
    "                                'VolumeType': 'gp2'\n",
    "                            }\n",
    "                        }\n",
    "                    ]\n",
    "                }\n",
    "              }#,\n",
    "            # {\n",
    "            #     'Name': 'worker nodes',\n",
    "            #     'Market': 'ON_DEMAND',\n",
    "            #     'InstanceRole': 'CORE',\n",
    "            #     'InstanceType': 'm5.xlarge',\n",
    "            #     'InstanceCount': 2,\n",
    "            # }\n",
    "        ],\n",
    "        'KeepJobFlowAliveWhenNoSteps': True,\n",
    "        'TerminationProtected': False,\n",
    "        'Ec2KeyName': 'Johan_key',\n",
    "    },\n",
    "    VisibleToAllUsers = True,\n",
    "    JobFlowRole='EMR_EC2_DefaultRole',\n",
    "    ServiceRole='EMR_DefaultRole',\n",
    "    Applications=[\n",
    "        {\n",
    "            'Name': 'Spark'\n",
    "        },\n",
    "    ]        \n",
    "# ,BootstrapActions=[ \n",
    "#         {\n",
    "#             'Name': 'Packages setup',\n",
    "#             'ScriptBootstrapAction':\n",
    "#                 {\n",
    "#                 'Path': jp.get_bootstrap(params.job)\n",
    "#                 }\n",
    "#         }]\n",
    ")\n",
    "\n"
   ]
  },
  {
   "cell_type": "code",
   "execution_count": 39,
   "metadata": {},
   "outputs": [
    {
     "name": "stdout",
     "output_type": "stream",
     "text": [
      "{'JobFlowId': 'j-1EXR6VYRSGRAG', 'ClusterArn': 'arn:aws:elasticmapreduce:us-east-1:012609303642:cluster/j-1EXR6VYRSGRAG', 'ResponseMetadata': {'RequestId': 'e253437b-fa17-42a1-83b1-6e460e6f0ad3', 'HTTPStatusCode': 200, 'HTTPHeaders': {'x-amzn-requestid': 'e253437b-fa17-42a1-83b1-6e460e6f0ad3', 'content-type': 'application/x-amz-json-1.1', 'content-length': '118', 'date': 'Mon, 12 Dec 2022 02:31:17 GMT'}, 'RetryAttempts': 0}}\n"
     ]
    }
   ],
   "source": [
    "print(response)"
   ]
  },
  {
   "cell_type": "code",
   "execution_count": 46,
   "metadata": {},
   "outputs": [
    {
     "name": "stdout",
     "output_type": "stream",
     "text": [
      "STARTING\n"
     ]
    }
   ],
   "source": [
    "#get cluster id\n",
    "cluster_id = response['JobFlowId']\n",
    "#get cluster status\n",
    "cluster_status = emr.describe_cluster(ClusterId=cluster_id)['Cluster']['Status']['State']\n",
    "print(cluster_status)"
   ]
  },
  {
   "cell_type": "code",
   "execution_count": 47,
   "metadata": {},
   "outputs": [
    {
     "name": "stdout",
     "output_type": "stream",
     "text": [
      "172.31.27.88\n"
     ]
    }
   ],
   "source": [
    "#use cluster id to get public dns\n",
    "clusternoton = False\n",
    "while clusternoton == False:\n",
    "  emr_list_instance_rep = emr.list_instances(\n",
    "          ClusterId=cluster_id,\n",
    "          InstanceGroupTypes=[\n",
    "              'MASTER',\n",
    "          ],\n",
    "          InstanceStates=[\n",
    "              'RUNNING',\n",
    "          ]\n",
    "      )\n",
    "  try:\n",
    "    print(emr_list_instance_rep['Instances'][0]['PrivateIpAddress'])\n",
    "    clusternoton = True\n",
    "  except:\n",
    "    pass"
   ]
  },
  {
   "cell_type": "code",
   "execution_count": 31,
   "metadata": {},
   "outputs": [],
   "source": [
    "#add step to cluster\n",
    "# need to first upload stuff to the cluster, which can be done with scp.\n",
    "#then chmod the script?\\\n",
    "#usr/bin/python3: can't open file '/home/ec2-user/am111_spark/training_fin_classfier.py': [Errno 13] Permission denied\n",
    "#this doesnt work, why? will do it manually for now.\n",
    "\n",
    "#ignore this code, just do it manually this is bugged\n",
    "\n",
    "response = emr.add_job_flow_steps(\n",
    "    JobFlowId=cluster_id,\n",
    "    Steps=[\n",
    "        {\n",
    "            'Name': 'bootstrap',\n",
    "            'ActionOnFailure': 'CONTINUE',\n",
    "            'HadoopJarStep': {\n",
    "                'Jar': 'command-runner.jar',\n",
    "                'Args': [\n",
    "                    'sudo',\n",
    "                    'pip3',\n",
    "                    'install',\n",
    "                    '-r',\n",
    "                    '/home/ec2-user/am111_spark/requirements.txt',\n",
    "                ]\n",
    "                 }\n",
    "        },\n",
    "        {\n",
    "            'Name': 'spark job',\n",
    "            'ActionOnFailure': 'CONTINUE',\n",
    "            'HadoopJarStep': {\n",
    "                'Jar': 'command-runner.jar',\n",
    "                'Args': [\n",
    "                    'python',\n",
    "                    '/home/ec2-user/am111_spark/training_fin_classfier.py',\n",
    "\n",
    "                ]\n",
    "            }\n",
    "        }\n",
    "    ]\n",
    ")"
   ]
  },
  {
   "cell_type": "code",
   "execution_count": 7,
   "metadata": {},
   "outputs": [
    {
     "data": {
      "text/plain": [
       "{'ResponseMetadata': {'RequestId': '1bebfcf8-42db-41a5-8775-062eefec44d5',\n",
       "  'HTTPStatusCode': 200,\n",
       "  'HTTPHeaders': {'x-amzn-requestid': '1bebfcf8-42db-41a5-8775-062eefec44d5',\n",
       "   'content-type': 'application/x-amz-json-1.1',\n",
       "   'content-length': '0',\n",
       "   'date': 'Sat, 10 Dec 2022 21:28:51 GMT'},\n",
       "  'RetryAttempts': 0}}"
      ]
     },
     "execution_count": 7,
     "metadata": {},
     "output_type": "execute_result"
    }
   ],
   "source": [
    "#terminate the cluster\n",
    "emr.terminate_job_flows(JobFlowIds=[cluster_id])"
   ]
  },
  {
   "cell_type": "code",
   "execution_count": null,
   "metadata": {},
   "outputs": [],
   "source": [
    "#check cluster status every 20 seconds and print\n",
    "cluster_status = emr.describe_cluster(ClusterId=cluster_id)['Cluster']['Status']['State']\n",
    "while cluster_status != 'TERMINATED' or cluster_status != 'TERMINATED_WITH_ERRORS':\n",
    "    cluster_status = emr.describe_cluster(ClusterId=cluster_id)['Cluster']['Status']['State']\n",
    "    print(cluster_status)\n",
    "    time.sleep(20)\n"
   ]
  }
 ],
 "metadata": {
  "kernelspec": {
   "display_name": "am111_venv",
   "language": "python",
   "name": "python3"
  },
  "language_info": {
   "codemirror_mode": {
    "name": "ipython",
    "version": 3
   },
   "file_extension": ".py",
   "mimetype": "text/x-python",
   "name": "python",
   "nbconvert_exporter": "python",
   "pygments_lexer": "ipython3",
   "version": "3.10.5"
  },
  "orig_nbformat": 4,
  "vscode": {
   "interpreter": {
    "hash": "f57737e6d1a902c43fc81f11403a4faf60173bd712443272aa63091abb3c628b"
   }
  }
 },
 "nbformat": 4,
 "nbformat_minor": 2
}
