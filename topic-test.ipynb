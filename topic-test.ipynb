{
 "cells": [
  {
   "cell_type": "code",
   "execution_count": 47,
   "metadata": {},
   "outputs": [
    {
     "name": "stderr",
     "output_type": "stream",
     "text": [
      "/home/johan/am111/am111_venv/lib/python3.10/site-packages/numpy/core/fromnumeric.py:3432: RuntimeWarning: Mean of empty slice.\n",
      "  return _methods._mean(a, axis=axis, dtype=dtype,\n",
      "/home/johan/am111/am111_venv/lib/python3.10/site-packages/numpy/core/_methods.py:190: RuntimeWarning: invalid value encountered in double_scalars\n",
      "  ret = ret.dtype.type(ret / rcount)\n"
     ]
    }
   ],
   "source": [
    "from gensim.test.utils import common_corpus, common_dictionary\n",
    "from gensim.models import LdaModel\n",
    "from gensim.models.coherencemodel import CoherenceModel\n",
    "\n",
    "\n",
    "\n",
    "model = LdaModel(common_corpus, 5, common_dictionary)\n",
    "out = model.get_document_topics(common_corpus[0])\n",
    "cm = CoherenceModel(topics=out, corpus=common_corpus,dictionary=common_dictionary, coherence='u_mass')\n",
    "coherence = cm.get_coherence()  # get coherence value\n"
   ]
  },
  {
   "cell_type": "code",
   "execution_count": 60,
   "metadata": {},
   "outputs": [
    {
     "data": {
      "text/plain": [
       "9"
      ]
     },
     "execution_count": 60,
     "metadata": {},
     "output_type": "execute_result"
    }
   ],
   "source": [
    "len(common_dictionary)\n",
    "len(common_corpus)"
   ]
  },
  {
   "cell_type": "code",
   "execution_count": 40,
   "metadata": {},
   "outputs": [
    {
     "data": {
      "text/plain": [
       "nan"
      ]
     },
     "execution_count": 40,
     "metadata": {},
     "output_type": "execute_result"
    }
   ],
   "source": [
    "topics = [\n",
    "    ['finance', 'interest', 'stock', 'eps'],\n",
    "    ['school', 'minors', 'trees', 'eps']\n",
    "]\n",
    "\n",
    "\n",
    "\n",
    "cm = CoherenceModel(topics=topics, corpus=common_corpus, dictionary=common_dictionary, coherence='u_mass')\n",
    "coherence = cm.get_coherence()  # get coherence value\n",
    "coherence"
   ]
  },
  {
   "cell_type": "code",
   "execution_count": 24,
   "metadata": {},
   "outputs": [],
   "source": [
    "from gensim.test.utils import common_texts\n",
    "from gensim.corpora.dictionary import Dictionary\n",
    "\n",
    "# Create a corpus from a list of texts\n",
    "common_dictionary = Dictionary(common_texts)\n",
    "common_corpus = [common_dictionary.doc2bow(text) for text in common_texts]\n",
    "\n",
    "# Train the model on the corpus.\n",
    "lda = LdaModel(common_corpus, num_topics=10)\n"
   ]
  },
  {
   "cell_type": "code",
   "execution_count": 29,
   "metadata": {},
   "outputs": [
    {
     "data": {
      "text/plain": [
       "[['human', 'interface', 'computer'],\n",
       " ['survey', 'user', 'computer', 'system', 'response', 'time'],\n",
       " ['eps', 'user', 'interface', 'system'],\n",
       " ['system', 'human', 'system', 'eps'],\n",
       " ['user', 'response', 'time'],\n",
       " ['trees'],\n",
       " ['graph', 'trees'],\n",
       " ['graph', 'minors', 'trees'],\n",
       " ['graph', 'minors', 'survey']]"
      ]
     },
     "execution_count": 29,
     "metadata": {},
     "output_type": "execute_result"
    }
   ],
   "source": [
    "common_texts"
   ]
  },
  {
   "cell_type": "code",
   "execution_count": 70,
   "metadata": {},
   "outputs": [],
   "source": [
    "\n",
    "other_texts = [\n",
    "    ['computer', 'time', 'graph'],\n",
    "    ['survey', 'response', 'eps'],\n",
    "    ['human', 'system', 'pepe']\n",
    "]\n",
    "other_corpus = [common_dictionary.doc2bow(text) for text in other_texts]\n",
    "\n",
    "unseen_doc = other_corpus[0]\n",
    "vector = lda[unseen_doc]  # get topic probability distribution for a document\n"
   ]
  },
  {
   "cell_type": "code",
   "execution_count": 81,
   "metadata": {},
   "outputs": [
    {
     "data": {
      "text/plain": [
       "[(0, 0.025000045),\n",
       " (1, 0.025005916),\n",
       " (2, 0.77496743),\n",
       " (3, 0.0250075),\n",
       " (4, 0.025000045),\n",
       " (5, 0.02500005),\n",
       " (6, 0.02500005),\n",
       " (7, 0.0250075),\n",
       " (8, 0.02500005),\n",
       " (9, 0.025011413)]"
      ]
     },
     "execution_count": 81,
     "metadata": {},
     "output_type": "execute_result"
    }
   ],
   "source": [
    "vector"
   ]
  },
  {
   "cell_type": "code",
   "execution_count": 77,
   "metadata": {},
   "outputs": [
    {
     "data": {
      "text/plain": [
       "[(1, 1)]"
      ]
     },
     "execution_count": 77,
     "metadata": {},
     "output_type": "execute_result"
    }
   ],
   "source": [
    "common_dictionary.doc2bow(['time of human','human','pepe'])"
   ]
  },
  {
   "cell_type": "code",
   "execution_count": 33,
   "metadata": {},
   "outputs": [
    {
     "name": "stdout",
     "output_type": "stream",
     "text": [
      "[(0, 0.100022644), (1, 0.100102894), (2, 0.59978336), (3, 0.10004051), (4, 0.10005059)]\n"
     ]
    },
    {
     "data": {
      "text/plain": [
       "'computer'"
      ]
     },
     "execution_count": 33,
     "metadata": {},
     "output_type": "execute_result"
    }
   ],
   "source": [
    "#https://radimrehurek.com/gensim/models/ldamodel.html\n",
    "#can use lda topic model to get topic distribution for a document, and discrimnate based on that?\n",
    "#will it work on non-coherent inputs?\n",
    "#what do we train it on? commoncrawl data? find a dictonary of topics?\n",
    "# so we find a big corpus to initialize it with, then update it with commoncrawl data?\n",
    "\n",
    "# but how do we know if one topic is like finance per say?\n",
    "\n",
    "#run subprocess in python\n",
    "plaintext = 'why chf solutions inc chfs stock rose 32 in trade today  find news home stock news analyst coverage research stock forecast top trending search our company privacy policy authors contact us find news home stock news analyst coverage research stock forecast top trending home stock forecast why chf solutions inc chfs stock rose 32 in trade today why chf solutions inc chfs stock rose 32 in trade today by melanie gerald  february 10 2020 facebook twitter google pinterest whatsapp chf solutions inc nasdaqchfs is a stock to watch today at current price of 043 the shares have already added 001 points 32 higher from its previous close of 042 the stock sets an active trading volume day with a reported 420331 contracts so far this session chfs shares had a relatively better volume day versus average trading capacity of 11 million shares but with a 1524 million float and a 121 run over a week its definitely worth keeping an eye on the one year price forecast for chfs stock indicates that the average analyst price target is 15 per share this means the stock has a potential increase of 338837 from where the chfs share price has been trading recently during the recent trading session for chf solutions inc nasdaqchfs the company witnessed their stock rise 002 over a week and tumble down 051 from the price 20 days ago when compared to their established 52week high of 135 the high they recorded in their recent session happens to be higher their established 52week high was attained by the company on 021919 the recent low of 041 stood for a 9678 since 013020 a data which is good for most investors who are looking to take advantage of the stocks recent rise a beta of 241 is also allocated to the stock since the beta is greater than one it implies that the stock is more volatile than the market a data that traders are keeping close attention to looking at the current readings for chf solutions inc the twoweek rsi stands at 3226 this figure suggests that chfs stock for now is neutral meaning that the shares are stable in terms of price movement the stochastic readings on the other hand based on the current chfs readings is similarly very revealing as it has a stochastic reading of 252 at this stage this figure means that chfs share price today is being overbought technical chart claims that chf solutions inc chfs would settle between 045share to 048share level however if the stock price goes below the 041 mark then the market for chf solutions inc becomes much weaker if that happens the stock price might even plunge as low as 039 for its downside target the stock is currently in the red zone of macd with the indicator reading 001 traders are always alerted for the move of a stock above or below the zero line due to the fact that the reading is an indicator of the position of the shortterm average relative to the longterm average if the macd is above the zero line then the shortterm average relative is above that of the longterm average thus implying an upward momentum vice versa is the case if the macd is below the zero line chfs equity has an average rating of 1 with the figure leaning towards a bullish end 1 analysts who tracked the company were contacted by reuters amongst them 0 rated the stock as a hold while the remaining 1 were split even though not equally some analysts rate the stock as a buy or a strong buy while no rated it as a sell 1 analysts rated chf solutions inc nasdaqchfs as a buy or a strong buy while not a single analyst advised that investors should desist from purchasing the stock or sell them if they already own the companys stock moving on chfs stock price is currently trading at 0x forward 12month consensus eps estimates and its pe ratio is 0 while for the average stock in the same group the multiple is 587 chf solutions inc current pb ratio of 1 means it is trading at a discount against its industrys 48 tagschf solutionschfschfs newschfs stockincnysechfs facebook twitter google pinterest whatsapp previous articlewhy amc entertainment holdings inc amc is up a whooping 26 todaynext articlewhat did ocugen inc ocgn do today stock moves 609 higher melanie gerald related articlesmore from author why everyones talking about neos therapeutics inc neos today why pixelworks inc pxlw is up a whooping 384 today why tivo corporation tivo stock tumbled 394 in trade today popular posts netease inc ntes getting lifted 419 today  heres the simple february 10 2020 why coherus biosciences inc chrs is exploding 418 today february 10 2020 why pixelworks inc pxlw is up a whooping 384 today february 10 2020 latest posts netease inc ntes getting lifted 419 today  heres the simple explanation why samuel moore  february 10 2020 0 what just happened netease inc nasdaqntes stock value has climbed by nearly 419 or 1423 points to 35398 from its previous close of 33975 why coherus biosciences inc chrs is exploding 418 today peggy goldman  february 10 2020 0 coherus biosciences inc nasdaqchrs is among the top gainers of the stock market today skyrocketing 418 or 086 points to 2145 from its previous why pixelworks inc pxlw is up a whooping 384 today melanie gerald  february 10 2020 0 pixelworks inc nasdaqpxlw is among the top gainers of the stock market today skyrocketing 384 or 017 points to 46 from its previous close about usour company helps in establishing and molding worldclass journalists in our organization we have earned several awards on the collective of authors and employees of our agency makes the greatest possible efforts in order to fulfill the formulated tasks as quickly and as qualitatively as possible our company privacy policy authors contact us  copyright 2019 find a news all rights reserved edit with live css save write css or less and hit save ctrl  space for autocomplete'\n",
    "from gensim.test.utils import common_corpus, common_dictionary\n",
    "\n",
    "\n",
    "from gensim.models import LdaModel\n",
    "\n",
    "# read in topics.csv as a list\n",
    "topics = []\n",
    "with open('./sentdat/topics.csv', 'r') as f:\n",
    "    for line in f:\n",
    "        topics.append(line.split(','))\n",
    "\n",
    "dictionary = Dictionary(topics)\n",
    "\n",
    "lda = LdaModel(common_corpus,num_topics=5)\n",
    "plaintext = plaintext.split()\n",
    "corpus = [common_dictionary.doc2bow(plaintext)]\n",
    "\n",
    "doc_lda = lda[corpus]\n",
    "print(doc_lda[0])\n",
    "common_dictionary[0]\n",
    "# print(common_dictionary[1])\n",
    "# common_dictionary\n",
    "\n",
    "#take \n"
   ]
  },
  {
   "cell_type": "code",
   "execution_count": 3,
   "metadata": {},
   "outputs": [
    {
     "name": "stdout",
     "output_type": "stream",
     "text": [
      "22/11/27 22:03:09 WARN Utils: Service 'SparkUI' could not bind on port 4040. Attempting port 4041.\n"
     ]
    },
    {
     "name": "stderr",
     "output_type": "stream",
     "text": [
      "                                                                                \r"
     ]
    },
    {
     "name": "stdout",
     "output_type": "stream",
     "text": [
      "+---+--------------------+--------------------+\n",
      "| id|            sentence|               words|\n",
      "+---+--------------------+--------------------+\n",
      "|  0|Hi I heard about ...|[hi, i, heard, ab...|\n",
      "|  1|I wish Java could...|[i, wish, java, c...|\n",
      "|  2|Logistic,regressi...|[logistic,regress...|\n",
      "+---+--------------------+--------------------+\n",
      "\n"
     ]
    }
   ],
   "source": [
    "from pyspark.ml.feature import Tokenizer, RegexTokenizer\n",
    "from pyspark.sql.functions import col, udf\n",
    "from pyspark.sql.types import IntegerType\n",
    "# $example off$\n",
    "from pyspark.sql import SparkSession\n",
    "\n",
    "if __name__ == \"__main__\":\n",
    "    spark = SparkSession\\\n",
    "        .builder\\\n",
    "        .appName(\"TokenizerExample\")\\\n",
    "        .getOrCreate()\n",
    "\n",
    "    # $example on$\n",
    "    sentenceDataFrame = spark.createDataFrame([\n",
    "        (0, \"Hi I heard about Spark\"),\n",
    "        (1, \"I wish Java could use case classes\"),\n",
    "        (2, \"Logistic,regression,models,are,neat\")\n",
    "    ], [\"id\", \"sentence\"])\n",
    "\n",
    "    tokenizer = Tokenizer(inputCol=\"sentence\", outputCol=\"words\")\n",
    "\n",
    "    regexTokenizer = RegexTokenizer(inputCol=\"sentence\", outputCol=\"words\", pattern=\"\\\\W\")\n",
    "    # alternatively, pattern=\"\\\\w+\", gaps(False)\n",
    "\n",
    "    countTokens = udf(lambda words: len(words), IntegerType())\n",
    "\n",
    "    tokenized = tokenizer.transform(sentenceDataFrame)\n",
    "    tokenized.show(5)\n",
    "    # tokenized.select(\"sentence\", \"words\")\\\n",
    "    #     .withColumn(\"tokens\", countTokens(col(\"words\"))).show(truncate=False)\n",
    "\n",
    "    # regexTokenized = regexTokenizer.transform(sentenceDataFrame)\n",
    "    # regexTokenized.select(\"sentence\", \"words\") \\\n",
    "    #     .withColumn(\"tokens\", countTokens(col(\"words\"))).show(truncate=False)\n",
    "    # $example off$\n",
    "\n",
    "    spark.stop()"
   ]
  },
  {
   "cell_type": "code",
   "execution_count": null,
   "metadata": {},
   "outputs": [],
   "source": [
    "#train the lda model on gobs of commoncrawl data larger than 50 with stopwords and lemmitization.\n",
    "#train the lda model on the data, and then check which topics are most common from inference on \n",
    "#articles sorted by finance. -> like these: https://www.kaggle.com/datasets/jeet2016/us-financial-news-articles\n",
    "# could also train a classifier on the data with financial news articles and non financial news articles. \n",
    "#training a classifier is more efficient, maybe use topic mode to assess kaggle data to see if all similar topic? \n",
    "#or perhaps try to train a classifier on the kaggle data, while using lda for \n",
    "\n",
    "#IGNORE THIS CELL\n",
    "from gensim.test.utils import datapath\n",
    "from gensim.models import LdaModel\n",
    "from gensim.corpora.dictionary import Dictionary\n",
    "training_lda_data = []\n",
    "for index, row in enumerate(list_of_rows_batch):\n",
    "    splitlist = row['text'].split()\n",
    "    #make splitlist unique\n",
    "    splitlist = list(set(splitlist))\n",
    "    if len(splitlist) > 50:\n",
    "        training_lda_data.append(splitlist)\n",
    "\n",
    "common_dictionary = Dictionary(training_lda_data)\n",
    "common_corpus = [common_dictionary.doc2bow(text) for text in training_lda_data]\n",
    "lda_model = LdaModel(common_corpus, num_topics=10, id2word=common_dictionary, passes=10)\n",
    "\n",
    "temp_file = datapath(\"model\")\n",
    "lda_model.save(temp_file)\n",
    "\n",
    "#also exlcude strings below a certain length.\n",
    "#run inference on new plaintext\n",
    "plaintext = 'wowie this is cool the election cycle went so well'\n",
    "split_plaintext = plaintext.split()\n",
    "corpus = [common_dictionary.doc2bow(split_plaintext)]\n",
    "\n",
    "common_dictionary.most_common(10)\n",
    "\n",
    "#https://www.machinelearningplus.com/nlp/gensim-tutorial/ <- use this scroll down to lda models and work through"
   ]
  }
 ],
 "metadata": {
  "kernelspec": {
   "display_name": "Python 3.10.5 ('am111_venv')",
   "language": "python",
   "name": "python3"
  },
  "language_info": {
   "codemirror_mode": {
    "name": "ipython",
    "version": 3
   },
   "file_extension": ".py",
   "mimetype": "text/x-python",
   "name": "python",
   "nbconvert_exporter": "python",
   "pygments_lexer": "ipython3",
   "version": "3.10.5 (main, Jun 11 2022, 16:53:24) [GCC 9.4.0]"
  },
  "orig_nbformat": 4,
  "vscode": {
   "interpreter": {
    "hash": "f57737e6d1a902c43fc81f11403a4faf60173bd712443272aa63091abb3c628b"
   }
  }
 },
 "nbformat": 4,
 "nbformat_minor": 2
}
